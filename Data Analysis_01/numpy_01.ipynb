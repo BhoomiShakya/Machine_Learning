{
 "cells": [
  {
   "cell_type": "markdown",
   "id": "ce2588d5",
   "metadata": {},
   "source": [
    "Numpy"
   ]
  },
  {
   "cell_type": "code",
   "execution_count": 1,
   "id": "45139af0",
   "metadata": {},
   "outputs": [
    {
     "name": "stdout",
     "output_type": "stream",
     "text": [
      "Requirement already satisfied: numpy in c:\\users\\asus\\appdata\\local\\programs\\python\\python310\\lib\\site-packages (1.26.4)\n",
      "Note: you may need to restart the kernel to use updated packages.\n"
     ]
    },
    {
     "name": "stderr",
     "output_type": "stream",
     "text": [
      "WARNING: You are using pip version 21.2.4; however, version 25.1.1 is available.\n",
      "You should consider upgrading via the 'c:\\Users\\ASUS\\AppData\\Local\\Programs\\Python\\Python310\\python.exe -m pip install --upgrade pip' command.\n"
     ]
    }
   ],
   "source": [
    "%pip install numpy\n"
   ]
  },
  {
   "cell_type": "code",
   "execution_count": 2,
   "id": "222f52f8",
   "metadata": {},
   "outputs": [
    {
     "name": "stdout",
     "output_type": "stream",
     "text": [
      "[1 2 3 4 5]\n",
      "<class 'numpy.ndarray'>\n",
      "(5,)\n"
     ]
    }
   ],
   "source": [
    "import numpy as np\n",
    "\n",
    "#create 1D array using numpy\n",
    "arr1= np.array([1,2,3,4,5]) \n",
    "print(arr1)\n",
    "print(type(arr1))\n",
    "print(arr1.shape)"
   ]
  },
  {
   "cell_type": "code",
   "execution_count": 7,
   "id": "e2fa7b85",
   "metadata": {},
   "outputs": [
    {
     "name": "stdout",
     "output_type": "stream",
     "text": [
      "[1 2 3 4 5 6]\n",
      "(6,)\n"
     ]
    }
   ],
   "source": [
    "#reshaping 1D array to 2D array\n",
    "arr2=np.array([1,2,3,4,5,6])\n",
    "arr2.reshape(1,6)\n",
    "print(arr2)\n",
    "print(arr2.shape)\n",
    "# print(arr2)"
   ]
  },
  {
   "cell_type": "code",
   "execution_count": 11,
   "id": "ab718b74",
   "metadata": {},
   "outputs": [
    {
     "name": "stdout",
     "output_type": "stream",
     "text": [
      "[ 0  2  4  6  8 10 12 14 16 18]\n",
      "[[ 0  2  4  6  8]\n",
      " [10 12 14 16 18]]\n"
     ]
    }
   ],
   "source": [
    "arr3= np.arange(0,20,2)\n",
    "print(arr3)\n",
    "print(arr3.reshape(2,5))"
   ]
  },
  {
   "cell_type": "markdown",
   "id": "975d898c",
   "metadata": {},
   "source": [
    "InBuilt Functions"
   ]
  },
  {
   "cell_type": "code",
   "execution_count": 14,
   "id": "b3c1b70d",
   "metadata": {},
   "outputs": [
    {
     "data": {
      "text/plain": [
       "array([[1., 1., 1., 1.],\n",
       "       [1., 1., 1., 1.],\n",
       "       [1., 1., 1., 1.]])"
      ]
     },
     "execution_count": 14,
     "metadata": {},
     "output_type": "execute_result"
    }
   ],
   "source": [
    "np.ones((3,4)) # array of element 1"
   ]
  },
  {
   "cell_type": "code",
   "execution_count": 13,
   "id": "0568ed08",
   "metadata": {},
   "outputs": [
    {
     "data": {
      "text/plain": [
       "array([[1., 0., 0., 0.],\n",
       "       [0., 1., 0., 0.],\n",
       "       [0., 0., 1., 0.],\n",
       "       [0., 0., 0., 1.]])"
      ]
     },
     "execution_count": 13,
     "metadata": {},
     "output_type": "execute_result"
    }
   ],
   "source": [
    "np.eye(4) #identity matrix "
   ]
  },
  {
   "cell_type": "markdown",
   "id": "748df8ab",
   "metadata": {},
   "source": [
    "Numpy Vectorized Operation"
   ]
  },
  {
   "cell_type": "code",
   "execution_count": 24,
   "id": "cba5c326",
   "metadata": {},
   "outputs": [
    {
     "name": "stdout",
     "output_type": "stream",
     "text": [
      "addition [11 22 33 44 55]\n",
      "substraction [ 9 18 27 36 45]\n",
      "multiplication [ 10  40  90 160 250]\n",
      "divison [10. 10. 10. 10. 10.]\n"
     ]
    }
   ],
   "source": [
    "arr4= np.array([1,2,3,4,5])\n",
    "arr5= np.array([10,20,30,40,50])\n",
    "\n",
    "#addition\n",
    "print(\"addition\", arr4+arr5)\n",
    "\n",
    "#substraction\n",
    "print(\"substraction\", arr5-arr4)\n",
    "\n",
    "#multiplication\n",
    "print(\"multiplication\", arr4*arr5)\n",
    "\n",
    "#division\n",
    "print(\"divison\",arr5/arr4)\n",
    "\n"
   ]
  },
  {
   "cell_type": "markdown",
   "id": "3196e5bd",
   "metadata": {},
   "source": [
    "Universal Function"
   ]
  },
  {
   "cell_type": "code",
   "execution_count": null,
   "id": "318dc704",
   "metadata": {},
   "outputs": [
    {
     "name": "stdout",
     "output_type": "stream",
     "text": [
      "Square Root  [3.16227766 4.47213595 5.47722558 6.32455532 7.07106781]\n",
      "exponential [2.20264658e+04 4.85165195e+08 1.06864746e+13 2.35385267e+17\n",
      " 5.18470553e+21]\n",
      "sin  [-0.54402111  0.91294525 -0.98803162  0.74511316 -0.26237485]\n"
     ]
    }
   ],
   "source": [
    "print(\"Square Root \", np.sqrt(arr5))\n",
    "print(\"exponential\", np.exp(arr5))\n",
    "print(\"sin Operation\", np.sin(arr5))"
   ]
  },
  {
   "cell_type": "markdown",
   "id": "ccf58bbf",
   "metadata": {},
   "source": [
    "Slicing Operation & Indexing\n",
    "\n"
   ]
  },
  {
   "cell_type": "code",
   "execution_count": 31,
   "id": "45048f63",
   "metadata": {},
   "outputs": [
    {
     "name": "stdout",
     "output_type": "stream",
     "text": [
      "[[1 2 4]\n",
      " [5 6 7]\n",
      " [8 9 0]]\n"
     ]
    }
   ],
   "source": [
    "arr6=np.array([[1,2,4],[5,6,7],[8,9,0]])\n",
    "print(arr6)"
   ]
  },
  {
   "cell_type": "code",
   "execution_count": null,
   "id": "3c821bb3",
   "metadata": {},
   "outputs": [
    {
     "name": "stdout",
     "output_type": "stream",
     "text": [
      "1\n",
      "[[4]\n",
      " [7]\n",
      " [0]]\n"
     ]
    }
   ],
   "source": [
    "print(arr6[0][0])\n",
    "print(arr6[0:,2:])"
   ]
  },
  {
   "cell_type": "code",
   "execution_count": 37,
   "id": "a39951c0",
   "metadata": {},
   "outputs": [
    {
     "name": "stdout",
     "output_type": "stream",
     "text": [
      "[[10  2  4]\n",
      " [ 5  6  7]\n",
      " [ 8  9  0]]\n"
     ]
    }
   ],
   "source": [
    "#modify\n",
    "arr6[0,0]=10\n",
    "print(arr6)"
   ]
  },
  {
   "cell_type": "markdown",
   "id": "21a93f60",
   "metadata": {},
   "source": [
    "Statistical Concept--->Normalisation"
   ]
  },
  {
   "cell_type": "code",
   "execution_count": 39,
   "id": "116f7b5e",
   "metadata": {},
   "outputs": [
    {
     "name": "stdout",
     "output_type": "stream",
     "text": [
      "Normalization is  [-1.41421356 -0.70710678  0.          0.70710678  1.41421356]\n"
     ]
    }
   ],
   "source": [
    "#to have a mean of 0 and standard deviation of 1\n",
    "data= np.array([1,2,3,4,5])\n",
    "\n",
    "mean= np.mean(data)\n",
    "std_dev= np.std(data)\n",
    "\n",
    "normalisation= (data-mean)/std_dev\n",
    "print(\"Normalization is \", normalisation)"
   ]
  },
  {
   "cell_type": "code",
   "execution_count": 46,
   "id": "f44f9c79",
   "metadata": {},
   "outputs": [
    {
     "name": "stdout",
     "output_type": "stream",
     "text": [
      "[False False False False False  True  True  True  True  True]\n",
      "[ 6  7  8  9 10]\n"
     ]
    }
   ],
   "source": [
    "#logical operation\n",
    "\n",
    "data2=np.array([1,2,3,4,5,6,7,8,9,10])\n",
    "print(data2>5)\n",
    "print(data2[data2>5])"
   ]
  }
 ],
 "metadata": {
  "kernelspec": {
   "display_name": "Python 3",
   "language": "python",
   "name": "python3"
  },
  "language_info": {
   "codemirror_mode": {
    "name": "ipython",
    "version": 3
   },
   "file_extension": ".py",
   "mimetype": "text/x-python",
   "name": "python",
   "nbconvert_exporter": "python",
   "pygments_lexer": "ipython3",
   "version": "3.10.1"
  }
 },
 "nbformat": 4,
 "nbformat_minor": 5
}
