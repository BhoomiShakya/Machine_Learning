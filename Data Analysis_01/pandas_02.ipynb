{
 "cells": [
  {
   "cell_type": "markdown",
   "id": "7415943e",
   "metadata": {},
   "source": [
    "Pandas- DataFrame & Series"
   ]
  },
  {
   "cell_type": "code",
   "execution_count": 1,
   "id": "8e7007b4",
   "metadata": {},
   "outputs": [
    {
     "name": "stdout",
     "output_type": "stream",
     "text": [
      "Requirement already satisfied: pandas in c:\\users\\asus\\appdata\\local\\programs\\python\\python310\\lib\\site-packages (1.4.2)\n",
      "Requirement already satisfied: pytz>=2020.1 in c:\\users\\asus\\appdata\\local\\programs\\python\\python310\\lib\\site-packages (from pandas) (2022.1)\n",
      "Requirement already satisfied: numpy>=1.21.0 in c:\\users\\asus\\appdata\\local\\programs\\python\\python310\\lib\\site-packages (from pandas) (1.26.4)\n",
      "Requirement already satisfied: python-dateutil>=2.8.1 in c:\\users\\asus\\appdata\\local\\programs\\python\\python310\\lib\\site-packages (from pandas) (2.8.2)\n",
      "Requirement already satisfied: six>=1.5 in c:\\users\\asus\\appdata\\local\\programs\\python\\python310\\lib\\site-packages (from python-dateutil>=2.8.1->pandas) (1.16.0)\n"
     ]
    },
    {
     "name": "stderr",
     "output_type": "stream",
     "text": [
      "WARNING: You are using pip version 21.2.4; however, version 25.1.1 is available.\n",
      "You should consider upgrading via the 'C:\\Users\\ASUS\\AppData\\Local\\Programs\\Python\\Python310\\python.exe -m pip install --upgrade pip' command.\n"
     ]
    }
   ],
   "source": [
    "!pip install pandas"
   ]
  },
  {
   "cell_type": "code",
   "execution_count": 2,
   "id": "db6bd2df",
   "metadata": {},
   "outputs": [],
   "source": [
    "import pandas as pd"
   ]
  },
  {
   "cell_type": "markdown",
   "id": "b1fa3f49",
   "metadata": {},
   "source": [
    "Series "
   ]
  },
  {
   "cell_type": "code",
   "execution_count": 5,
   "id": "bbcdd25e",
   "metadata": {},
   "outputs": [
    {
     "name": "stdout",
     "output_type": "stream",
     "text": [
      "Series is \n",
      " 0    1\n",
      "1    2\n",
      "2    3\n",
      "3    4\n",
      "4    5\n",
      "dtype: int64\n"
     ]
    }
   ],
   "source": [
    "data = [1,2,3,4,5]\n",
    "series= pd.Series(data)\n",
    "print(\"Series is \\n\", series)\n"
   ]
  },
  {
   "cell_type": "code",
   "execution_count": 6,
   "id": "41af406d",
   "metadata": {},
   "outputs": [
    {
     "name": "stdout",
     "output_type": "stream",
     "text": [
      "a    1\n",
      "b    2\n",
      "c    3\n",
      "d    4\n",
      "e    5\n",
      "dtype: int64\n"
     ]
    }
   ],
   "source": [
    "#creating series from dictionary\n",
    "data2={\n",
    "        'a':1, \n",
    "        'b':2, \n",
    "        'c':3,\n",
    "        'd':4,\n",
    "        'e':5\n",
    "    }\n",
    "series_dict = pd.Series(data2)\n",
    "print(series_dict)"
   ]
  },
  {
   "cell_type": "code",
   "execution_count": 7,
   "id": "36df664a",
   "metadata": {},
   "outputs": [
    {
     "name": "stdout",
     "output_type": "stream",
     "text": [
      "A    10\n",
      "B    20\n",
      "C    30\n",
      "dtype: int64\n"
     ]
    }
   ],
   "source": [
    "data3= [10,20,30]\n",
    "index=['A','B','C']\n",
    "series3= pd.Series(data3, index=index)\n",
    "print(series3)\n"
   ]
  },
  {
   "cell_type": "markdown",
   "id": "e2d9b403",
   "metadata": {},
   "source": [
    "DataFrame"
   ]
  },
  {
   "cell_type": "code",
   "execution_count": 8,
   "id": "8724ca28",
   "metadata": {},
   "outputs": [
    {
     "name": "stdout",
     "output_type": "stream",
     "text": [
      "     Name  Age       City\n",
      "0     Sia   21   Gurugram\n",
      "1  Saumya   23  Bangalore\n",
      "2   Medha   22     Mysore\n"
     ]
    }
   ],
   "source": [
    "#create a Dataframe from dictionary of list\n",
    "data4={\n",
    "    'Name':['Sia', 'Saumya','Medha'],\n",
    "    'Age' :[21,23,22],\n",
    "    'City':['Gurugram', 'Bangalore', 'Mysore'],\n",
    "}\n",
    "df=pd.DataFrame(data4)\n",
    "print(df)"
   ]
  },
  {
   "cell_type": "code",
   "execution_count": 10,
   "id": "c9e91a3b",
   "metadata": {},
   "outputs": [
    {
     "name": "stdout",
     "output_type": "stream",
     "text": [
      "     Name  Age       City\n",
      "0     Sia   21   Gurugram\n",
      "1  Saumya   23  Bangalore\n",
      "2   Medha   22     Mysore\n"
     ]
    }
   ],
   "source": [
    "#create a Dataframe from list of Dictionaries\n",
    "data5=[\n",
    "   { 'Name':'Sia', 'Age' :21, 'City':'Gurugram'},\n",
    "   { 'Name':'Saumya', 'Age' :23, 'City':'Bangalore'},\n",
    "   { 'Name':'Medha', 'Age' :22, 'City':'Mysore'},\n",
    "    ]\n",
    "df2=pd.DataFrame(data5)\n",
    "print(df2)\n"
   ]
  },
  {
   "cell_type": "code",
   "execution_count": 13,
   "id": "a387c537",
   "metadata": {},
   "outputs": [
    {
     "name": "stdout",
     "output_type": "stream",
     "text": [
      "  Order ID  Order Date CustomerName           State     City\n",
      "0  B-26055  10-03-2018    Harivansh   Uttar Pradesh  Mathura\n",
      "1  B-25993  03-02-2018       Madhav           Delhi    Delhi\n",
      "2  B-25973  24-01-2018  Madan Mohan   Uttar Pradesh  Mathura\n",
      "3  B-25923  27-12-2018        Gopal     Maharashtra   Mumbai\n",
      "4  B-25757  21-08-2018     Vishakha  Madhya Pradesh   Indore\n",
      "\n",
      "\n",
      "    Order ID  Order Date CustomerName             State     City\n",
      "495  B-25742  03-08-2018       Ashwin               Goa      Goa\n",
      "496  B-26088  26-03-2018       Bhavna            Sikkim  Gangtok\n",
      "497  B-25707  01-07-2018      Shivani       Maharashtra   Mumbai\n",
      "498  B-25758  22-08-2018      Shubham  Himachal Pradesh    Simla\n",
      "499  B-26095  28-03-2018      Monisha         Rajasthan   Jaipur\n"
     ]
    }
   ],
   "source": [
    "df3= pd.read_csv('Orders.csv')\n",
    "print(df3.head())\n",
    "print(\"\\n\")\n",
    "print(df3.tail())"
   ]
  },
  {
   "cell_type": "markdown",
   "id": "694b7783",
   "metadata": {},
   "source": [
    "Acccessing Data from DataFrames"
   ]
  },
  {
   "cell_type": "code",
   "execution_count": 19,
   "id": "c4b17cc6",
   "metadata": {},
   "outputs": [
    {
     "name": "stdout",
     "output_type": "stream",
     "text": [
      "     Name  Age       City\n",
      "0     Sia   21   Gurugram\n",
      "1  Saumya   23  Bangalore\n",
      "2   Medha   22     Mysore\n",
      "\n",
      "\n",
      "0       Sia\n",
      "1    Saumya\n",
      "2     Medha\n",
      "Name: Name, dtype: object\n",
      "\n",
      "\n",
      "Name         Sia\n",
      "Age           21\n",
      "City    Gurugram\n",
      "Name: 0, dtype: object\n"
     ]
    }
   ],
   "source": [
    "print(df2)\n",
    "print(\"\\n\")\n",
    "print(df2['Name'])\n",
    "print(\"\\n\")\n",
    "print(df2.loc[0])\n"
   ]
  },
  {
   "cell_type": "markdown",
   "id": "d8f57598",
   "metadata": {},
   "source": [
    "Acccessing a specific Element"
   ]
  },
  {
   "cell_type": "code",
   "execution_count": 23,
   "id": "17bbf844",
   "metadata": {},
   "outputs": [
    {
     "name": "stdout",
     "output_type": "stream",
     "text": [
      "     Name  Age       City\n",
      "0     Sia   21   Gurugram\n",
      "1  Saumya   23  Bangalore\n",
      "2   Medha   22     Mysore\n",
      "\n",
      "\n",
      "23\n",
      "\n",
      "\n",
      "Medha\n"
     ]
    }
   ],
   "source": [
    "print(df2)\n",
    "print(\"\\n\")\n",
    "\n",
    "#age at the index 1\n",
    "print(df2.at[1,'Age'])\n",
    "print(\"\\n\")\n",
    "\n",
    "\n",
    "#Name at the index 2\n",
    "print(df2.at[2,'Name'])"
   ]
  },
  {
   "cell_type": "code",
   "execution_count": 24,
   "id": "06e625d5",
   "metadata": {},
   "outputs": [
    {
     "name": "stdout",
     "output_type": "stream",
     "text": [
      "23\n"
     ]
    }
   ],
   "source": [
    "#Acccessing a specificied element using iat\n",
    "#basically here we are going to give row and col index.\n",
    "print(df2.iat[1,1])"
   ]
  },
  {
   "cell_type": "markdown",
   "id": "54e08078",
   "metadata": {},
   "source": [
    "Data manipulation using DataFrame"
   ]
  },
  {
   "cell_type": "code",
   "execution_count": 29,
   "id": "089e902f",
   "metadata": {},
   "outputs": [
    {
     "name": "stdout",
     "output_type": "stream",
     "text": [
      "     Name  Age       City  Salary\n",
      "0     Sia   21   Gurugram   50000\n",
      "1  Saumya   23  Bangalore   60000\n",
      "2   Medha   22     Mysore    7000\n"
     ]
    }
   ],
   "source": [
    "#col added\n",
    "df2['Salary']= [50000,60000,7000]\n",
    "print(df2)"
   ]
  },
  {
   "cell_type": "code",
   "execution_count": 33,
   "id": "4fae8c3f",
   "metadata": {},
   "outputs": [],
   "source": [
    "#remove col\n",
    "df2.drop('Salary',axis=1, inplace=True)"
   ]
  },
  {
   "cell_type": "code",
   "execution_count": 36,
   "id": "fc935241",
   "metadata": {},
   "outputs": [
    {
     "name": "stdout",
     "output_type": "stream",
     "text": [
      "     Name  Age       City\n",
      "0     Sia   22   Gurugram\n",
      "1  Saumya   24  Bangalore\n",
      "2   Medha   23     Mysore\n"
     ]
    }
   ],
   "source": [
    "df2['Age']= df2['Age']+1\n",
    "print(df2)"
   ]
  },
  {
   "cell_type": "code",
   "execution_count": 38,
   "id": "9e09e280",
   "metadata": {},
   "outputs": [
    {
     "name": "stdout",
     "output_type": "stream",
     "text": [
      "<class 'pandas.core.frame.DataFrame'>\n",
      "RangeIndex: 500 entries, 0 to 499\n",
      "Data columns (total 5 columns):\n",
      " #   Column        Non-Null Count  Dtype \n",
      "---  ------        --------------  ----- \n",
      " 0   Order ID      500 non-null    object\n",
      " 1   Order Date    500 non-null    object\n",
      " 2   CustomerName  500 non-null    object\n",
      " 3   State         500 non-null    object\n",
      " 4   City          500 non-null    object\n",
      "dtypes: object(5)\n",
      "memory usage: 19.7+ KB\n",
      "None\n"
     ]
    }
   ],
   "source": [
    "print(df3.info())"
   ]
  }
 ],
 "metadata": {
  "kernelspec": {
   "display_name": "Python 3",
   "language": "python",
   "name": "python3"
  },
  "language_info": {
   "codemirror_mode": {
    "name": "ipython",
    "version": 3
   },
   "file_extension": ".py",
   "mimetype": "text/x-python",
   "name": "python",
   "nbconvert_exporter": "python",
   "pygments_lexer": "ipython3",
   "version": "3.10.1"
  }
 },
 "nbformat": 4,
 "nbformat_minor": 5
}
