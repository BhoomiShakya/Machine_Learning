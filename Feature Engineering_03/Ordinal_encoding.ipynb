{
 "cells": [
  {
   "cell_type": "code",
   "execution_count": 2,
   "id": "5dbe1544",
   "metadata": {},
   "outputs": [],
   "source": [
    "import pandas as pd\n",
    "from sklearn.preprocessing import OrdinalEncoder"
   ]
  },
  {
   "cell_type": "code",
   "execution_count": 3,
   "id": "52a96aea",
   "metadata": {},
   "outputs": [],
   "source": [
    "df = pd.DataFrame({'size':['small', 'medium', 'large', 'medium', 'large']})"
   ]
  },
  {
   "cell_type": "code",
   "execution_count": 6,
   "id": "acc791ac",
   "metadata": {},
   "outputs": [],
   "source": [
    "encoder = OrdinalEncoder(categories=[['small','medium', 'large']])"
   ]
  },
  {
   "cell_type": "code",
   "execution_count": 8,
   "id": "e2869ee5",
   "metadata": {},
   "outputs": [
    {
     "data": {
      "text/plain": [
       "array([[0.],\n",
       "       [1.],\n",
       "       [2.],\n",
       "       [1.],\n",
       "       [2.]])"
      ]
     },
     "execution_count": 8,
     "metadata": {},
     "output_type": "execute_result"
    }
   ],
   "source": [
    "encoding = encoder.fit_transform(df[['size']])\n",
    "encoding"
   ]
  },
  {
   "cell_type": "code",
   "execution_count": null,
   "id": "c766c8e9",
   "metadata": {},
   "outputs": [],
   "source": [
    "# Create a dataframe to show the results\n",
    "result_df = pd.DataFrame({'size': df['size'], 'encoded': encoding.flatten()})\n",
    "result_df\n"
   ]
  },
  {
   "cell_type": "markdown",
   "id": "fa04c1e7",
   "metadata": {},
   "source": [
    "## Ordinal Encoding Summary\n",
    "\n",
    "**What is Ordinal Encoding?**\n",
    "- Ordinal Encoding converts ordinal categorical variables into numerical format\n",
    "- Preserves the natural order/ranking of categories\n",
    "- Assigns integers based on the specified order\n",
    "\n",
    "**Key Features:**\n",
    "1. Maintains ordinal relationships between categories\n",
    "2. Allows you to specify the order of categories\n",
    "3. More informative than simple label encoding\n",
    "4. Preserves the relative importance/ranking\n",
    "\n",
    "**When to Use:**\n",
    "- Ordinal categorical variables with clear hierarchy\n",
    "- Examples: size (small < medium < large), education level, income brackets\n",
    "- When the order of categories matters for the model\n",
    "- Tree-based algorithms that can leverage ordinal information\n",
    "\n",
    "**Advantages over Label Encoding:**\n",
    "- You control the order assignment\n",
    "- More meaningful for ordinal data\n",
    "- Better representation of hierarchical relationships\n"
   ]
  }
 ],
 "metadata": {
  "kernelspec": {
   "display_name": "Python 3",
   "language": "python",
   "name": "python3"
  },
  "language_info": {
   "codemirror_mode": {
    "name": "ipython",
    "version": 3
   },
   "file_extension": ".py",
   "mimetype": "text/x-python",
   "name": "python",
   "nbconvert_exporter": "python",
   "pygments_lexer": "ipython3",
   "version": "3.10.1"
  }
 },
 "nbformat": 4,
 "nbformat_minor": 5
}
