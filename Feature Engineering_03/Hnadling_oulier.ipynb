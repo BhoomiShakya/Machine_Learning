{
 "cells": [
  {
   "cell_type": "markdown",
   "id": "910b4704",
   "metadata": {},
   "source": [
    "5 NUMBER Summary and Box Plot"
   ]
  },
  {
   "cell_type": "code",
   "execution_count": null,
   "id": "7f6c31f2",
   "metadata": {},
   "outputs": [],
   "source": [
    "# Minimum , Maximum , Median, Q1, q2, IQR\n",
    "import numpy as np\n"
   ]
  },
  {
   "cell_type": "code",
   "execution_count": 2,
   "id": "30dd363b",
   "metadata": {},
   "outputs": [],
   "source": [
    "list_marks = [45, 32, 56, 75, 89, 54, 32 , 89, 90, 87, 67, 54, 45, 98, 99, 67, 74]\n",
    "minimum , Q1, median , Q3 , maximum = np.quantile(list_marks, [0 , 0.25 , 0.50 , 0.75, 1.0])"
   ]
  },
  {
   "cell_type": "code",
   "execution_count": 3,
   "id": "55d1eaa1",
   "metadata": {},
   "outputs": [
    {
     "data": {
      "text/plain": [
       "(32.0, 54.0, 67.0, 89.0, 99.0)"
      ]
     },
     "execution_count": 3,
     "metadata": {},
     "output_type": "execute_result"
    }
   ],
   "source": [
    "minimum , Q1, median , Q3 , maximum"
   ]
  },
  {
   "cell_type": "code",
   "execution_count": 5,
   "id": "19029578",
   "metadata": {},
   "outputs": [
    {
     "name": "stdout",
     "output_type": "stream",
     "text": [
      "35.0\n"
     ]
    }
   ],
   "source": [
    "IQR = Q3- Q1\n",
    "print(IQR)"
   ]
  },
  {
   "cell_type": "code",
   "execution_count": 6,
   "id": "818d7af6",
   "metadata": {},
   "outputs": [],
   "source": [
    "lower_fence = Q1 - 1.5*(IQR)\n",
    "higher_fence = Q3 + 1.5*(IQR)"
   ]
  },
  {
   "cell_type": "code",
   "execution_count": 7,
   "id": "226e287f",
   "metadata": {},
   "outputs": [
    {
     "data": {
      "text/plain": [
       "(1.5, 141.5)"
      ]
     },
     "execution_count": 7,
     "metadata": {},
     "output_type": "execute_result"
    }
   ],
   "source": [
    "lower_fence, higher_fence"
   ]
  },
  {
   "cell_type": "code",
   "execution_count": 8,
   "id": "4265bd70",
   "metadata": {},
   "outputs": [
    {
     "data": {
      "text/plain": [
       "<Axes: >"
      ]
     },
     "execution_count": 8,
     "metadata": {},
     "output_type": "execute_result"
    },
    {
     "data": {
      "image/png": "[encoded data removed]",
      "text/plain": [
       "<Figure size 640x480 with 1 Axes>"
      ]
     },
     "metadata": {},
     "output_type": "display_data"
    }
   ],
   "source": [
    "import seaborn as sns\n",
    "sns.boxplot(list_marks)"
   ]
  },
  {
   "cell_type": "code",
   "execution_count": 13,
   "id": "994852ac",
   "metadata": {},
   "outputs": [],
   "source": [
    "list_marks = [2,1, 45, 32, 56, 75, 89, 54, 32 , 89, 90, 87, 67, 54, 45, 98, 99, 67, 74, 220]\n"
   ]
  },
  {
   "cell_type": "code",
   "execution_count": 14,
   "id": "100e852e",
   "metadata": {},
   "outputs": [
    {
     "data": {
      "text/plain": [
       "<Axes: >"
      ]
     },
     "execution_count": 14,
     "metadata": {},
     "output_type": "execute_result"
    },
    {
     "data": {
      "image/png": "[encoded data removed]",
      "text/plain": [
       "<Figure size 640x480 with 1 Axes>"
      ]
     },
     "metadata": {},
     "output_type": "display_data"
    }
   ],
   "source": [
    "sns.boxplot(list_marks)"
   ]
  },
  {
   "cell_type": "markdown",
   "id": "11b4f446",
   "metadata": {},
   "source": [
    "## Outlier Detection and Handling Summary\n",
    "\n",
    "**What are Outliers?**\n",
    "- Outliers are data points that significantly differ from other observations\n",
    "- They can be caused by measurement errors, data entry mistakes, or genuine extreme values\n",
    "- Can significantly impact statistical analysis and machine learning models\n",
    "\n",
    "**5-Number Summary:**\n",
    "- **Minimum**: Smallest value\n",
    "- **Q1 (First Quartile)**: 25th percentile\n",
    "- **Median (Q2)**: 50th percentile (middle value)\n",
    "- **Q3 (Third Quartile)**: 75th percentile\n",
    "- **Maximum**: Largest value\n",
    "\n",
    "**Interquartile Range (IQR):**\n",
    "- IQR = Q3 - Q1\n",
    "- Measures the spread of the middle 50% of data\n",
    "- Used to identify outliers\n",
    "\n",
    "**Outlier Detection Methods:**\n",
    "\n",
    "### 1. IQR Method:\n",
    "- **Lower Fence**: Q1 - 1.5 × IQR\n",
    "- **Upper Fence**: Q3 + 1.5 × IQR\n",
    "- Values outside these fences are considered outliers\n",
    "\n",
    "### 2. Z-Score Method:\n",
    "- Z-score = (value - mean) / standard deviation\n",
    "- Values with |Z-score| > 3 are considered outliers\n",
    "\n",
    "### 3. Box Plot Visualization:\n",
    "- Visual representation of 5-number summary\n",
    "- Outliers appear as individual points beyond whiskers\n",
    "\n",
    "**Handling Outliers:**\n",
    "1. **Remove**: Delete outlier observations\n",
    "2. **Cap**: Replace with threshold values\n",
    "3. **Transform**: Apply log, square root transformations\n",
    "4. **Investigate**: Understand if outliers are genuine or errors\n",
    "\n",
    "**Best Practices:**\n",
    "- Always investigate outliers before removing them\n",
    "- Consider the business context\n",
    "- Use domain knowledge to decide handling strategy\n",
    "- Document your outlier treatment approach\n"
   ]
  }
 ],
 "metadata": {
  "kernelspec": {
   "display_name": "Python 3",
   "language": "python",
   "name": "python3"
  },
  "language_info": {
   "codemirror_mode": {
    "name": "ipython",
    "version": 3
   },
   "file_extension": ".py",
   "mimetype": "text/x-python",
   "name": "python",
   "nbconvert_exporter": "python",
   "pygments_lexer": "ipython3",
   "version": "3.10.1"
  }
 },
 "nbformat": 4,
 "nbformat_minor": 5
}
